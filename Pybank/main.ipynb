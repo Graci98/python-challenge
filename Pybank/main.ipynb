{
 "cells": [
  {
   "cell_type": "code",
   "execution_count": 1,
   "id": "50b0a349-1645-442f-93f4-faa3c70d740f",
   "metadata": {},
   "outputs": [],
   "source": [
    "budget_data =   {\n",
    "    \"Jan-2010\": 867884,\n",
    "    \"Feb-2010\": 984655,\n",
    "    \"Mar-2010\": 322013,\n",
    "    \"Apr-2010\": -69417,\n",
    "    \"May-2010\": 310503,\n",
    "    \"Jun-2010\": 522857,\n",
    "    \"Jul-2010\": 1033096,\n",
    "    \"Aug-2010\": 604885,\n",
    "    \"Sep-2010\": -216386,\n",
    "    \"Oct-2010\": 477532,\n",
    "    \"Nov-2010\": 893810,\n",
    "    \"Dec-2010\": -80353,\n",
    "    \"Jan-2011\": 779806,\n",
    "    \"Feb-2011\": -335203,\n",
    "    \"Mar-2011\": 697845,\n",
    "    \"Apr-2011\": 793163,\n",
    "    \"May-2011\": 485070,\n",
    "    \"Jun-2011\": 584122,\n",
    "    \"Jul-2011\": 62729,\n",
    "    \"Aug-2011\": 668179,\n",
    "    \"Sep-2011\": 899906,\n",
    "    \"Oct-2011\": 834719,\n",
    "    \"Nov-2011\": 132003,\n",
    "    \"Dec-2011\": 309978,\n",
    "    \"Jan-2012\": -755566,\n",
    "    \"Feb-2012\": 1170593,\n",
    "    \"Mar-2012\": 252788,\n",
    "    \"Apr-2012\": 1151518,\n",
    "    \"May-2012\": 817256,\n",
    "    \"Jun-2012\": 570757,\n",
    "    \"Jul-2012\": 506702,\n",
    "    \"Aug-2012\": -1022534,\n",
    "    \"Sep-2012\": 475062,\n",
    "    \"Oct-2012\": 779976,\n",
    "    \"Nov-2012\": 144175,\n",
    "    \"Dec-2012\": 542494,\n",
    "    \"Jan-2013\": 359333,\n",
    "    \"Feb-2013\": 321469,\n",
    "    \"Mar-2013\": 67780,\n",
    "    \"Apr-2013\": 471435,\n",
    "    \"May-2013\": 565603,\n",
    "    \"Jun-2013\": 872480,\n",
    "    \"Jul-2013\": 789480,\n",
    "    \"Aug-2013\": 999942,\n",
    "    \"Sep-2013\": -1196225,\n",
    "    \"Oct-2103\": 268997,\n",
    "    \"Nov-2013\": -687986,\n",
    "    \"Dec-2013\": 1150461,\n",
    "    \"Jan-2014\": 682458,\n",
    "    \"Feb-2014\": 617856,\n",
    "    \"Mar-2014\": 824098,\n",
    "    \"Apr-2014\": 581943,\n",
    "    \"May-2014\": 132864,\n",
    "    \"Jun-2014\": 448062,\n",
    "    \"Jul-2014\": 689161,\n",
    "    \"Aug-2014\": 800701, \n",
    "    \"Sep-2014\": 1166643,\n",
    "    \"Oct-2014\": 947333, \n",
    "    \"Nov-2014\": 578668,\n",
    "    \"Dec-2014\": 988505,\n",
    "    \"Jan-2015\": 1139715,\n",
    "    \"Feb-2015\": 1029471,\n",
    "    \"Mar-2015\": 687533,\n",
    "    \"Apr-2015\": -524626,\n",
    "    \"May-2015\": 158620,\n",
    "    \"Jun-2015\": 87795,\n",
    "    \"Jul-2015\": 423389,\n",
    "    \"Aug-2015\": 840723, \n",
    "    \"Sep-2015\": 568529, \n",
    "    \"Oct-2015\": 332067,\n",
    "    \"Nov-2015\": 989499,\n",
    "    \"Dec-2015\": 778237,\n",
    "    \"Jan-2016\": 650000,\n",
    "    \"Feb-2016\": -1100387,\n",
    "    \"Mar-2016\": -174946,\n",
    "    \"Apr-2016\": 757143,\n",
    "    \"May-2016\": 445709,\n",
    "    \"Jun-2016\": 712961, \n",
    "    \"Jul-2016\": -1163797,\n",
    "    \"Aug-2016\": 569899,\n",
    "    \"Sep-2016\": 768450,\n",
    "    \"Oct-2016\": 102685, \n",
    "    \"Nov-2016\": 795914,\n",
    "    \"Dec-2016\": 60988,\n",
    "    \"Jan-2017\": 138230,\n",
    "    \"Feb-2017\": 671099}\n",
    "    "
   ]
  },
  {
   "cell_type": "code",
   "execution_count": 7,
   "id": "afab4696-cd93-4393-aef8-e45c7614c2dc",
   "metadata": {},
   "outputs": [
    {
     "ename": "NameError",
     "evalue": "name 'total' is not defined",
     "output_type": "error",
     "traceback": [
      "\u001b[0;31m---------------------------------------------------------------------------\u001b[0m",
      "\u001b[0;31mNameError\u001b[0m                                 Traceback (most recent call last)",
      "\u001b[0;32m/var/folders/82/zrhtwx6141zffqfvv5htgq_c0000gn/T/ipykernel_13159/249680468.py\u001b[0m in \u001b[0;36m<module>\u001b[0;34m\u001b[0m\n\u001b[1;32m      3\u001b[0m \u001b[0;34m\u001b[0m\u001b[0m\n\u001b[1;32m      4\u001b[0m     \u001b[0;31m#Culmulatively sum up the total\u001b[0m\u001b[0;34m\u001b[0m\u001b[0;34m\u001b[0m\u001b[0m\n\u001b[0;32m----> 5\u001b[0;31m     \u001b[0mtotal\u001b[0m \u001b[0;34m+=\u001b[0m \u001b[0mnet_total_profit_losses\u001b[0m\u001b[0;34m\u001b[0m\u001b[0;34m\u001b[0m\u001b[0m\n\u001b[0m\u001b[1;32m      6\u001b[0m \u001b[0;34m\u001b[0m\u001b[0m\n\u001b[1;32m      7\u001b[0m     \u001b[0;32mif\u001b[0m \u001b[0mminimum\u001b[0m \u001b[0;34m==\u001b[0m \u001b[0;36m0\u001b[0m\u001b[0;34m:\u001b[0m\u001b[0;34m\u001b[0m\u001b[0;34m\u001b[0m\u001b[0m\n",
      "\u001b[0;31mNameError\u001b[0m: name 'total' is not defined"
     ]
    }
   ],
   "source": [
    "# Iterate over each element of the list to find each element\n",
    "for data in budget_data:\n",
    "    \n",
    "    #Culmulatively sum up the total\n",
    "    total += net_total_profit_losses\n",
    "    \n",
    "    if minimum == 0:\n",
    "        minimum = data\n"
   ]
  },
  {
   "cell_type": "code",
   "execution_count": 2,
   "id": "a1cf35fb-ed30-44f1-8860-a7fb2b8914b6",
   "metadata": {},
   "outputs": [],
   "source": [
    "# Initialize variables\n",
    "total_months = len(budget_data)\n",
    "net_total_profit_losses = sum(budget_data.values())\n",
    "average = round(total_months / net_total_profit_losses, 2)\n",
    "increase = 0\n",
    "decrease = 0\n"
   ]
  },
  {
   "cell_type": "code",
   "execution_count": 6,
   "id": "f1940d4b-d3cb-4fcb-a63a-db124c0f63f5",
   "metadata": {},
   "outputs": [
    {
     "name": "stdout",
     "output_type": "stream",
     "text": [
      "```\n",
      "Financial Analysis\n",
      "Total Months: \n",
      "Total: 38382578\n",
      "Average Change: 0.0\n",
      "Greatest Increase in Profits: ...\n",
      "Greatest Decrease in Profits: ...\n",
      "```\n"
     ]
    }
   ],
   "source": [
    "print(\"```\")\n",
    "# print out summary statistics\n",
    "print(\"Financial Analysis\")\n",
    "# The total number of months included in the dataset.\n",
    "print(f\"Total Months: \")\n",
    "# The net total amount of Profit/Losses over the entire period.\n",
    "print(f\"Total: {net_total_profit_losses}\")\n",
    "# The average of the changes in Profit/Losses over the entire period.\n",
    "print(f\"Average Change: {average}\")\n",
    "# The greatest increase in profits (date and amount) over the entire period.\n",
    "print(f\"Greatest Increase in Profits: ...\")\n",
    "# The greatest decrease in losses (date and amount) over the entire period.\n",
    "print(f\"Greatest Decrease in Profits: ...\")\n",
    "print(\"```\")"
   ]
  },
  {
   "cell_type": "code",
   "execution_count": null,
   "id": "68fa73f4-ed4d-4c7a-a0c1-9ee986786003",
   "metadata": {},
   "outputs": [],
   "source": []
  }
 ],
 "metadata": {
  "kernelspec": {
   "display_name": "Python 3 (ipykernel)",
   "language": "python",
   "name": "python3"
  },
  "language_info": {
   "codemirror_mode": {
    "name": "ipython",
    "version": 3
   },
   "file_extension": ".py",
   "mimetype": "text/x-python",
   "name": "python",
   "nbconvert_exporter": "python",
   "pygments_lexer": "ipython3",
   "version": "3.9.12"
  }
 },
 "nbformat": 4,
 "nbformat_minor": 5
}
